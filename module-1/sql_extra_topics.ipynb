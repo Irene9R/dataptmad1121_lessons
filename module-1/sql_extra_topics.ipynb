{
 "cells": [
  {
   "cell_type": "markdown",
   "id": "e2274908",
   "metadata": {},
   "source": [
    "# SQL Extra Topics - SQLAlchemy\n",
    "\n",
    "The SQLAlchemy SQL Toolkit and Object Relational Mapper is a comprehensive set of tools for working with databases and Python\n",
    "\n",
    "We'll need:\n",
    "\n",
    "- [Azure SQL Database](https://portal.azure.com/)\n",
    "\n",
    "- [ODBC Driver for SQL Server](https://docs.microsoft.com/en-us/sql/connect/odbc/download-odbc-driver-for-sql-server?view=sql-server-ver15)\n",
    "\n",
    "- [pyodbc](https://pypi.org/project/pyodbc/)\n",
    "\n",
    "- [SQLAlchemy](https://docs.sqlalchemy.org/en/13/intro.html)"
   ]
  },
  {
   "cell_type": "code",
   "execution_count": 1,
   "id": "e7d3dc71",
   "metadata": {},
   "outputs": [
    {
     "data": {
      "text/plain": [
       "'1.4.28'"
      ]
     },
     "execution_count": 1,
     "metadata": {},
     "output_type": "execute_result"
    }
   ],
   "source": [
    "# imports\n",
    "\n",
    "import os\n",
    "from dotenv import load_dotenv\n",
    "import pyodbc\n",
    "import sqlalchemy\n",
    "from sqlalchemy import create_engine\n",
    "from sqlalchemy.engine import URL\n",
    "import pandas as pd\n",
    "\n",
    "sqlalchemy.__version__"
   ]
  },
  {
   "cell_type": "markdown",
   "id": "0fba9d7c",
   "metadata": {},
   "source": [
    "---"
   ]
  },
  {
   "cell_type": "markdown",
   "id": "77409819",
   "metadata": {},
   "source": [
    "### dotenv\n",
    "\n",
    "https://pypi.org/project/python-dotenv/"
   ]
  },
  {
   "cell_type": "code",
   "execution_count": null,
   "id": "85a9e1bc",
   "metadata": {},
   "outputs": [],
   "source": [
    "load_dotenv('.env')\n",
    "\n",
    "DATABASE_PASSWORD = os.environ.get(\"DATABASE_PASSWORD\")\n",
    "DATABASE_PASSWORD"
   ]
  },
  {
   "cell_type": "markdown",
   "id": "c38db654",
   "metadata": {},
   "source": [
    "---"
   ]
  },
  {
   "cell_type": "code",
   "execution_count": null,
   "id": "8f2cf74f",
   "metadata": {},
   "outputs": [],
   "source": [
    "# connection string params => https://docs.sqlalchemy.org/en/14/dialects/mssql.html#pass-through-exact-pyodbc-string\n",
    "\n",
    "driver = 'Driver={ODBC Driver 17 for SQL Server};'\n",
    "server = 'Server=tcp:sqlironhack.database.windows.net,1433;'\n",
    "database = 'Database=AdventureWorksLT;'\n",
    "uid = 'Uid=azureuser;'\n",
    "pwd = f'Pwd={DATABASE_PASSWORD};'\n",
    "config = 'Encrypt=yes;TrustServerCertificate=no;Connection Timeout=30;'"
   ]
  },
  {
   "cell_type": "code",
   "execution_count": null,
   "id": "cc8cec4e",
   "metadata": {},
   "outputs": [],
   "source": [
    "# connection string assembly\n",
    "\n",
    "connection_string = driver+server+database+uid+pwd+config \n",
    "connection_url = URL.create(\"mssql+pyodbc\", query={\"odbc_connect\": connection_string})\n",
    "connection_url"
   ]
  },
  {
   "cell_type": "code",
   "execution_count": null,
   "id": "4fcd77b3",
   "metadata": {},
   "outputs": [],
   "source": [
    "# SQL Engine => dialect+driver (https://docs.sqlalchemy.org/en/14/core/engines.html)\n",
    "\n",
    "engine = create_engine(connection_url)\n",
    "type(engine)"
   ]
  },
  {
   "cell_type": "markdown",
   "id": "fc037aa1",
   "metadata": {},
   "source": [
    "---"
   ]
  },
  {
   "cell_type": "code",
   "execution_count": null,
   "id": "930c098f",
   "metadata": {},
   "outputs": [],
   "source": [
    "# Pandas!!!\n",
    "\n",
    "df = pd.read_sql_query(\"SELECT * FROM SalesLT.ProductModel\", engine)\n",
    "df"
   ]
  },
  {
   "cell_type": "markdown",
   "id": "bcb765d6",
   "metadata": {},
   "source": [
    "---"
   ]
  },
  {
   "cell_type": "markdown",
   "id": "87f54eb3",
   "metadata": {},
   "source": [
    "### Let's see some examples..."
   ]
  },
  {
   "cell_type": "code",
   "execution_count": null,
   "id": "b0014918",
   "metadata": {},
   "outputs": [],
   "source": [
    "query_1 = '''\n",
    "SELECT TOP 20 pc.Name as CategoryName, p.name as ProductName \n",
    "FROM SalesLT.ProductCategory pc JOIN SalesLT.Product p ON pc.productcategoryid = p.productcategoryid\n",
    "ORDER BY CategoryName\n",
    "'''"
   ]
  },
  {
   "cell_type": "code",
   "execution_count": null,
   "id": "e7987270",
   "metadata": {},
   "outputs": [],
   "source": [
    "df_q1 = pd.read_sql_query(query_1, engine)\n",
    "df_q1"
   ]
  },
  {
   "cell_type": "code",
   "execution_count": null,
   "id": "e0d562f7",
   "metadata": {},
   "outputs": [],
   "source": [
    "query_2 = '''\n",
    "SELECT c.FirstName + ' ' + c.LastName AS [Customer Fullname], p.Name AS [Product Name]\n",
    "FROM SalesLT.Customer AS c\n",
    "    INNER JOIN SalesLT.SalesOrderHeader AS soh ON c.CustomerID = soh.CustomerID\n",
    "    INNER JOIN SalesLT.SalesOrderDetail AS shd ON soh.SalesOrderID = shd.SalesOrderID\n",
    "    INNER JOIN SalesLT.Product AS p ON shd.ProductID = p.ProductID\n",
    "ORDER BY [Customer Fullname], [Product Name]\n",
    "'''"
   ]
  },
  {
   "cell_type": "code",
   "execution_count": null,
   "id": "6b69760e",
   "metadata": {},
   "outputs": [],
   "source": [
    "df_q2 = pd.read_sql_query(query_2, engine)\n",
    "df_q2"
   ]
  },
  {
   "cell_type": "code",
   "execution_count": null,
   "id": "f87b28e7",
   "metadata": {},
   "outputs": [],
   "source": [
    "query_3 = '''\n",
    "SELECT   p.name, COUNT(*) AS 'Total Orders'\n",
    "FROM SalesLT.Product AS p\n",
    "    INNER JOIN SalesLT.SalesOrderDetail AS sod ON p.ProductID = sod.ProductID\n",
    "GROUP BY  p.Name\n",
    "ORDER BY 'Total Orders' DESC\n",
    "'''"
   ]
  },
  {
   "cell_type": "code",
   "execution_count": null,
   "id": "d54faa1a",
   "metadata": {},
   "outputs": [],
   "source": [
    "df_q3 = pd.read_sql_query(query_3, engine)\n",
    "df_q3"
   ]
  },
  {
   "cell_type": "markdown",
   "id": "39741043",
   "metadata": {},
   "source": [
    "---"
   ]
  }
 ],
 "metadata": {
  "kernelspec": {
   "display_name": "Python [conda env:.conda-ironhack]",
   "language": "python",
   "name": "conda-env-.conda-ironhack-py"
  },
  "language_info": {
   "codemirror_mode": {
    "name": "ipython",
    "version": 3
   },
   "file_extension": ".py",
   "mimetype": "text/x-python",
   "name": "python",
   "nbconvert_exporter": "python",
   "pygments_lexer": "ipython3",
   "version": "3.7.11"
  }
 },
 "nbformat": 4,
 "nbformat_minor": 5
}
