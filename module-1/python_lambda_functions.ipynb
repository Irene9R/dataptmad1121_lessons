{
 "cells": [
  {
   "cell_type": "markdown",
   "id": "b621af6c",
   "metadata": {},
   "source": [
    "# Lambda Functions\n",
    "\n",
    "- Is an Anonymous Function\n",
    "\n",
    "- Usually, is meant for one-time use.\n",
    "\n",
    "- Can have only One Expression."
   ]
  },
  {
   "cell_type": "code",
   "execution_count": null,
   "id": "5e8f11a2",
   "metadata": {},
   "outputs": [],
   "source": [
    "# Function\n",
    "\n",
    "def currency_converter(amount, rate):\n",
    "    return amount * rate"
   ]
  },
  {
   "cell_type": "code",
   "execution_count": null,
   "id": "22d25aae",
   "metadata": {},
   "outputs": [],
   "source": [
    "euro_amount = 500\n",
    "current_rate = 0.88\n",
    "\n",
    "currency_converter(euro_amount, current_rate)"
   ]
  },
  {
   "cell_type": "markdown",
   "id": "69331a78",
   "metadata": {},
   "source": [
    "---"
   ]
  },
  {
   "cell_type": "code",
   "execution_count": null,
   "id": "4c64437b",
   "metadata": {},
   "outputs": [],
   "source": [
    "# Lambda function\n",
    "\n",
    "lambda_converter = lambda amount, rate : amount * rate"
   ]
  },
  {
   "cell_type": "code",
   "execution_count": null,
   "id": "98cf95e6",
   "metadata": {},
   "outputs": [],
   "source": [
    "euro_amount = 500\n",
    "current_rate = 0.88\n",
    "\n",
    "lambda_converter(euro_amount, current_rate)"
   ]
  },
  {
   "cell_type": "markdown",
   "id": "c8027fde",
   "metadata": {},
   "source": [
    "---"
   ]
  },
  {
   "cell_type": "code",
   "execution_count": null,
   "id": "237e2495",
   "metadata": {},
   "outputs": [],
   "source": [
    "# Lambda function with condition\n",
    "\n",
    "clever_converter = lambda amount, rate, bid : amount * rate if bid >= rate else \"I'm not interested\""
   ]
  },
  {
   "cell_type": "code",
   "execution_count": null,
   "id": "4841948f",
   "metadata": {},
   "outputs": [],
   "source": [
    "euro_amount = 500\n",
    "current_rate = 0.88\n",
    "offered_bid = 0.7\n",
    "\n",
    "clever_converter(euro_amount, current_rate, offered_bid)"
   ]
  },
  {
   "cell_type": "markdown",
   "id": "6c11c34f",
   "metadata": {},
   "source": [
    "---"
   ]
  },
  {
   "cell_type": "code",
   "execution_count": null,
   "id": "23e271f5",
   "metadata": {},
   "outputs": [],
   "source": [
    "# Lambda function and list comprehensions\n",
    "\n",
    "import random\n",
    "\n",
    "random_amounts = [random.randint(20, 2000) for i in range(10)]\n",
    "random_amounts"
   ]
  },
  {
   "cell_type": "code",
   "execution_count": null,
   "id": "446f1d5d",
   "metadata": {},
   "outputs": [],
   "source": [
    "[(lambda amount : round(amount * 0.88, 2))(amount) for amount in random_amounts]"
   ]
  }
 ],
 "metadata": {
  "kernelspec": {
   "display_name": "Python [conda env:.conda-data_env]",
   "language": "python",
   "name": "conda-env-.conda-data_env-py"
  },
  "language_info": {
   "codemirror_mode": {
    "name": "ipython",
    "version": 3
   },
   "file_extension": ".py",
   "mimetype": "text/x-python",
   "name": "python",
   "nbconvert_exporter": "python",
   "pygments_lexer": "ipython3",
   "version": "3.8.10"
  }
 },
 "nbformat": 4,
 "nbformat_minor": 5
}
