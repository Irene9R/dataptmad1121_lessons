{
 "cells": [
  {
   "cell_type": "markdown",
   "id": "06c357bb",
   "metadata": {},
   "source": [
    "# Object Oriented Programming\n",
    "\n",
    "- The `__init__()` method\n",
    "\n",
    "- Custom methods\n",
    "\n",
    "- Inheritance"
   ]
  },
  {
   "cell_type": "code",
   "execution_count": null,
   "id": "36579b06",
   "metadata": {},
   "outputs": [],
   "source": [
    "?object"
   ]
  },
  {
   "cell_type": "code",
   "execution_count": null,
   "id": "082ac7ed",
   "metadata": {},
   "outputs": [],
   "source": [
    "import random"
   ]
  },
  {
   "cell_type": "code",
   "execution_count": null,
   "id": "ce8c8521",
   "metadata": {},
   "outputs": [],
   "source": [
    "# Let's create a dog\n",
    "\n",
    "class Dog(object):   # classes are usually capitalized.\n",
    "    \n",
    "    GENDER = ['male', 'female']\n",
    "    \n",
    "    def __init__(self,   # self makes reference to the instance\n",
    "                 name, \n",
    "                 breed, \n",
    "                 age, \n",
    "                 coat, \n",
    "                 weight):\n",
    "        \n",
    "        self.name = name\n",
    "        self.breed = breed\n",
    "        self.age = age\n",
    "        self.coat = coat\n",
    "        self.weight = weight\n",
    "        self.gender = random.choice(self.GENDER)\n",
    "        self.genus = 'Canis'"
   ]
  },
  {
   "cell_type": "code",
   "execution_count": null,
   "id": "5a3d0113",
   "metadata": {},
   "outputs": [],
   "source": [
    "penny = Dog(name = 'Penny', \n",
    "            breed = 'Pug', \n",
    "            age = 10, \n",
    "            coat = 'fawn',\n",
    "            weight = '8 kg')"
   ]
  },
  {
   "cell_type": "code",
   "execution_count": null,
   "id": "d05484cb",
   "metadata": {},
   "outputs": [],
   "source": []
  },
  {
   "cell_type": "markdown",
   "id": "9240fdbe",
   "metadata": {},
   "source": [
    "---"
   ]
  },
  {
   "cell_type": "code",
   "execution_count": null,
   "id": "70c7e7b2",
   "metadata": {},
   "outputs": [],
   "source": [
    "# Methods: you've been using them all the time!!!\n",
    "\n",
    "string = 'Iron.hack'\n",
    "string = string.split('.')\n",
    "string"
   ]
  },
  {
   "cell_type": "code",
   "execution_count": null,
   "id": "603f0703",
   "metadata": {},
   "outputs": [],
   "source": [
    "# Now the dog must do things\n",
    "\n",
    "class Dog(object):   # classes are usually capitalized.\n",
    "    \n",
    "    GENDER = ['male', 'female']\n",
    "    \n",
    "    def __init__(self,   # self makes reference to the instance\n",
    "                 name, \n",
    "                 breed, \n",
    "                 age, \n",
    "                 coat, \n",
    "                 weight):\n",
    "        \n",
    "        self.name = name\n",
    "        self.breed = breed\n",
    "        self.age = age\n",
    "        self.coat = coat\n",
    "        self.weight = weight\n",
    "        self.gender = random.choice(self.GENDER)\n",
    "        self.genus = 'Canis'\n",
    "        \n",
    "    def eat(self, amount):\n",
    "        new_weight = float(self.weight.split(' ')[0]) + amount\n",
    "        self.weight = f'{round(new_weight, 2)} kg'\n",
    "        return f'{self.name} is getting fat and now weights {self.weight}'\n",
    "    \n",
    "    def shit(self):\n",
    "        pass"
   ]
  },
  {
   "cell_type": "code",
   "execution_count": null,
   "id": "eee926e3",
   "metadata": {},
   "outputs": [],
   "source": [
    "penny = Dog(name = 'Penny', \n",
    "            breed = 'Pug', \n",
    "            age = 10, \n",
    "            coat = 'fawn',\n",
    "            weight = '8 kg')"
   ]
  },
  {
   "cell_type": "code",
   "execution_count": null,
   "id": "4404ca7c",
   "metadata": {},
   "outputs": [],
   "source": []
  },
  {
   "cell_type": "code",
   "execution_count": null,
   "id": "ce6452c9",
   "metadata": {},
   "outputs": [],
   "source": [
    "# Some useful methods...\n",
    "\n",
    "print(Dog.__dict__, end='\\n\\n')\n",
    "print(penny.__dict__, end='\\n\\n')\n",
    "print(isinstance(penny, Dog), end='\\n\\n')"
   ]
  },
  {
   "cell_type": "markdown",
   "id": "1dd9d1d9",
   "metadata": {},
   "source": [
    "---"
   ]
  },
  {
   "cell_type": "code",
   "execution_count": null,
   "id": "57d57cf9",
   "metadata": {},
   "outputs": [],
   "source": [
    "# Inheritance\n",
    "\n",
    "class Cat(Dog):   # share attributes with Dogs.\n",
    "    def __init__(self,   # self makes reference to the instance\n",
    "                 name, \n",
    "                 breed, \n",
    "                 age, \n",
    "                 coat, \n",
    "                 weight, \n",
    "                 species):\n",
    "        super().__init__(name, breed, age, coat, weight)\n",
    "        self.genus = 'Felis'"
   ]
  },
  {
   "cell_type": "code",
   "execution_count": null,
   "id": "6bbecb03",
   "metadata": {},
   "outputs": [],
   "source": [
    "tigre = Cat(name = 'Tigre', \n",
    "            breed = 'European', \n",
    "            age = 16, \n",
    "            coat = 'ticked tabby',\n",
    "            weight = '4 kg', \n",
    "            species = 'Felis catus')"
   ]
  },
  {
   "cell_type": "code",
   "execution_count": null,
   "id": "7ef70ada",
   "metadata": {},
   "outputs": [],
   "source": []
  },
  {
   "cell_type": "markdown",
   "id": "6069f069",
   "metadata": {},
   "source": [
    "### Now let's try to build our first `Class` (https://www.codewars.com/kata/5a03af9606d5b65ff7000009/train/python)"
   ]
  }
 ],
 "metadata": {
  "kernelspec": {
   "display_name": "Python [conda env:.conda-data_env]",
   "language": "python",
   "name": "conda-env-.conda-data_env-py"
  },
  "language_info": {
   "codemirror_mode": {
    "name": "ipython",
    "version": 3
   },
   "file_extension": ".py",
   "mimetype": "text/x-python",
   "name": "python",
   "nbconvert_exporter": "python",
   "pygments_lexer": "ipython3",
   "version": "3.8.10"
  }
 },
 "nbformat": 4,
 "nbformat_minor": 5
}
