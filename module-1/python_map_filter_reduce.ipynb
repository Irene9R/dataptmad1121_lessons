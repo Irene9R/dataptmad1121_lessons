{
 "cells": [
  {
   "cell_type": "markdown",
   "id": "0b4f5cff",
   "metadata": {},
   "source": [
    "# Map\n",
    "\n",
    "- The goal of using the `map()` function is to apply a function to a sequence (https://docs.python.org/3.7/library/functions.html#map) "
   ]
  },
  {
   "cell_type": "code",
   "execution_count": null,
   "id": "69b86c46",
   "metadata": {},
   "outputs": [],
   "source": [
    "import requests\n",
    "from bs4 import BeautifulSoup\n",
    "from lxml import etree\n",
    "import random"
   ]
  },
  {
   "cell_type": "code",
   "execution_count": null,
   "id": "a55e1f91",
   "metadata": {},
   "outputs": [],
   "source": [
    "rate_content = requests.get('https://www.xe.com/currencyconverter/convert/?Amount=1&From=USD&To=EUR').content\n",
    "rate_soup = BeautifulSoup(rate_content, 'html.parser')\n",
    "rate_xpath = '//*[@id=\"__next\"]/div[2]/div[2]/section/div[2]/div/main/form/div[2]/div[1]/p[2]/text()[1]'\n",
    "rate_three = etree.HTML(str(rate_soup)).xpath(rate_xpath)[0]"
   ]
  },
  {
   "cell_type": "code",
   "execution_count": null,
   "id": "47eae83e",
   "metadata": {},
   "outputs": [],
   "source": [
    "random_amounts = [random.randint(20, 2000) for i in range(10)]\n",
    "current_rate = float(rate_three)\n",
    "print(random_amounts)\n",
    "print(current_rate)"
   ]
  },
  {
   "cell_type": "code",
   "execution_count": null,
   "id": "a006f826",
   "metadata": {},
   "outputs": [],
   "source": [
    "def currency_converter(amount, rate):\n",
    "    return amount * rate"
   ]
  },
  {
   "cell_type": "code",
   "execution_count": null,
   "id": "d7fb73df",
   "metadata": {},
   "outputs": [],
   "source": [
    "%%time\n",
    "\n",
    "# Now we map the function to the list\n",
    "\n",
    "map_object = map('FUNCTION GOES HERE!!!', random_amounts)\n",
    "print(map_object)"
   ]
  },
  {
   "cell_type": "code",
   "execution_count": null,
   "id": "cb37cfc7",
   "metadata": {
    "scrolled": true
   },
   "outputs": [],
   "source": [
    "%%time\n",
    "\n",
    "result_list = list(map_object)\n",
    "\n",
    "print(len(result_list))\n",
    "print(type(result_list))\n",
    "print(result_list)"
   ]
  },
  {
   "cell_type": "code",
   "execution_count": null,
   "id": "f5fdbc2c",
   "metadata": {},
   "outputs": [],
   "source": [
    "string = 'Ironhack'\n",
    "list(map(lambda x : x.upper(), string))"
   ]
  },
  {
   "cell_type": "markdown",
   "id": "d9a3e801",
   "metadata": {},
   "source": [
    "---"
   ]
  },
  {
   "cell_type": "markdown",
   "id": "9c4eb621",
   "metadata": {},
   "source": [
    "# Filter\n",
    "\n",
    "- The goal of the `filter()` function is to use the function we pass to it to remove elements from our sequence (https://docs.python.org/3.7/library/functions.html#filter)"
   ]
  },
  {
   "cell_type": "code",
   "execution_count": null,
   "id": "9dc13cb6",
   "metadata": {},
   "outputs": [],
   "source": [
    "random_amounts = [random.randint(20, 2000) for i in range(10)]\n",
    "#random_amounts"
   ]
  },
  {
   "cell_type": "code",
   "execution_count": null,
   "id": "4e71a444",
   "metadata": {},
   "outputs": [],
   "source": [
    "%%time\n",
    "\n",
    "# Now we filter the list\n",
    "\n",
    "filter_object = filter(lambda amount : amount > 100, random_amounts)\n",
    "print(filter_object)"
   ]
  },
  {
   "cell_type": "code",
   "execution_count": null,
   "id": "c2b2e031",
   "metadata": {},
   "outputs": [],
   "source": [
    "%%time\n",
    "\n",
    "filtered_list = list(filter_object)\n",
    "\n",
    "print(len(filtered_list))\n",
    "print(type(filtered_list))\n",
    "print(filtered_list)"
   ]
  },
  {
   "cell_type": "markdown",
   "id": "504fe4ed",
   "metadata": {},
   "source": [
    "---"
   ]
  },
  {
   "cell_type": "markdown",
   "id": "6597bd3c",
   "metadata": {},
   "source": [
    "# Reduce\n",
    "\n",
    "- The goal of the `reduce()` function is to aggregate all elements in a sequence (https://docs.python.org/3.7/library/functools.html#module-functools)"
   ]
  },
  {
   "cell_type": "code",
   "execution_count": null,
   "id": "3874bdd6",
   "metadata": {},
   "outputs": [],
   "source": [
    "from functools import reduce"
   ]
  },
  {
   "cell_type": "code",
   "execution_count": null,
   "id": "94d43faa",
   "metadata": {},
   "outputs": [],
   "source": [
    "%%time\n",
    "\n",
    "reduce_object = reduce(lambda x, y : x + y, random_amounts)\n",
    "\n",
    "#print(type(reduce_object))\n",
    "#print(reduce_object)"
   ]
  },
  {
   "cell_type": "code",
   "execution_count": null,
   "id": "06524cf6",
   "metadata": {},
   "outputs": [],
   "source": [
    "%%time\n",
    "\n",
    "suma = sum(random_amounts)\n",
    "\n",
    "#print(type(suma))\n",
    "#print(suma)"
   ]
  },
  {
   "cell_type": "markdown",
   "id": "c0449ba1",
   "metadata": {},
   "source": [
    "---"
   ]
  }
 ],
 "metadata": {
  "kernelspec": {
   "display_name": "Python [conda env:.conda-data_env]",
   "language": "python",
   "name": "conda-env-.conda-data_env-py"
  },
  "language_info": {
   "codemirror_mode": {
    "name": "ipython",
    "version": 3
   },
   "file_extension": ".py",
   "mimetype": "text/x-python",
   "name": "python",
   "nbconvert_exporter": "python",
   "pygments_lexer": "ipython3",
   "version": "3.8.10"
  }
 },
 "nbformat": 4,
 "nbformat_minor": 5
}
