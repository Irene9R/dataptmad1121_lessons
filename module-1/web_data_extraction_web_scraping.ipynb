{
 "cells": [
  {
   "cell_type": "markdown",
   "id": "f8688f96",
   "metadata": {},
   "source": [
    "# Web Data Extraction - Part II\n",
    "\n",
    "__WEB SCRAPING:__ data extraction from human-readable output coming from a web browser.\n",
    "\n",
    "__HTTP library for Python:__ [BeautifulSoup](https://www.crummy.com/software/BeautifulSoup/bs4/doc/) ==> _a Python package for parsing HTML and XML documents_"
   ]
  },
  {
   "cell_type": "markdown",
   "id": "de8b386d",
   "metadata": {},
   "source": [
    "---"
   ]
  },
  {
   "cell_type": "code",
   "execution_count": null,
   "id": "22d966a8",
   "metadata": {},
   "outputs": [],
   "source": [
    "# Import libraries\n",
    "import pandas as pd\n",
    "import requests\n",
    "import bs4   # !pip install beautifulsoup4\n",
    "import re"
   ]
  },
  {
   "cell_type": "markdown",
   "id": "6e0051ea",
   "metadata": {},
   "source": [
    "---"
   ]
  },
  {
   "cell_type": "code",
   "execution_count": null,
   "id": "44e8c42b",
   "metadata": {},
   "outputs": [],
   "source": [
    "# DOM content\n",
    "headers = {'user-agent': 'Mozilla/5.0 (Windows NT 6.1; Win64; x64; rv:47.0) Gecko/20100101 Firefox/47.0'}\n",
    "# https://developer.mozilla.org/en-US/docs/Web/HTTP/Headers/User-Agent\n",
    "\n",
    "url = 'https://www.marca.com/'\n",
    "response = requests.get(url, headers=headers, timeout=0.05)\n",
    "html = response.content\n",
    "print(f'Status code is: {response.status_code}')\n",
    "print(type(html))"
   ]
  },
  {
   "cell_type": "code",
   "execution_count": null,
   "id": "497907d8",
   "metadata": {},
   "outputs": [],
   "source": [
    "html[:1000]"
   ]
  },
  {
   "cell_type": "markdown",
   "id": "e337b020",
   "metadata": {},
   "source": [
    "---"
   ]
  },
  {
   "cell_type": "markdown",
   "id": "4514b76d",
   "metadata": {},
   "source": [
    "__Lets make some broth...__\n",
    "\n",
    "![Image](./img/web_data_01.png)"
   ]
  },
  {
   "cell_type": "code",
   "execution_count": null,
   "id": "6f3f019c",
   "metadata": {},
   "outputs": [],
   "source": [
    "html_sample = '<a href=\"url.com\" title=\"Web Scraping\" itemprop=\"url\" id=\"example\" class=\"intro\">Hello World</a>'\n",
    "broth = bs4.BeautifulSoup(html_sample, \"html.parser\") \n",
    "print(type(broth))\n",
    "broth"
   ]
  },
  {
   "cell_type": "code",
   "execution_count": null,
   "id": "dfcc14d3",
   "metadata": {},
   "outputs": [],
   "source": [
    "tag = broth.a\n",
    "print(type(tag))\n",
    "tag"
   ]
  },
  {
   "cell_type": "code",
   "execution_count": null,
   "id": "300510fd",
   "metadata": {},
   "outputs": [],
   "source": [
    "tag.name\n",
    "#tag.name = 'b'\n",
    "#tag.name"
   ]
  },
  {
   "cell_type": "code",
   "execution_count": null,
   "id": "96033441",
   "metadata": {},
   "outputs": [],
   "source": [
    "tag.attrs"
   ]
  },
  {
   "cell_type": "code",
   "execution_count": null,
   "id": "1aa6c504",
   "metadata": {},
   "outputs": [],
   "source": [
    "tag['class']"
   ]
  },
  {
   "cell_type": "code",
   "execution_count": null,
   "id": "093ca3ba",
   "metadata": {},
   "outputs": [],
   "source": [
    "tag.string"
   ]
  },
  {
   "cell_type": "code",
   "execution_count": null,
   "id": "38ec9e8c",
   "metadata": {},
   "outputs": [],
   "source": [
    "broth.name"
   ]
  },
  {
   "cell_type": "markdown",
   "id": "098f470e",
   "metadata": {},
   "source": [
    "---"
   ]
  },
  {
   "cell_type": "markdown",
   "id": "5a9fe7e1",
   "metadata": {},
   "source": [
    "__Now, let's make some soup...__"
   ]
  },
  {
   "cell_type": "code",
   "execution_count": null,
   "id": "c85dd747",
   "metadata": {},
   "outputs": [],
   "source": [
    "html_doc = \"\"\"\n",
    "<html><head><title>The Dormouse's story</title></head>\n",
    "<body>\n",
    "<p class=\"title\"><b>The Dormouse's story</b></p>\n",
    "\n",
    "<p class=\"story\">Once upon a time there were three little sisters; and their names were\n",
    "<a href=\"http://example.com/elsie\" class=\"sister\" id=\"link1\">Elsie</a>,\n",
    "<a href=\"http://example.com/lacie\" class=\"sister\" id=\"link2\">Lacie</a> and\n",
    "<a href=\"http://example.com/tillie\" class=\"sister\" id=\"link3\">Tillie</a>;\n",
    "and they lived at the bottom of a well.</p>\n",
    "\n",
    "<p class=\"story\">...</p>\n",
    "\"\"\"\n",
    "soup = bs4.BeautifulSoup(html_doc, \"html.parser\") \n",
    "print(type(soup))\n",
    "soup"
   ]
  },
  {
   "cell_type": "code",
   "execution_count": null,
   "id": "beee4953",
   "metadata": {},
   "outputs": [],
   "source": [
    "print(type(soup.html))\n",
    "soup.html # soup.find('html')"
   ]
  },
  {
   "cell_type": "code",
   "execution_count": null,
   "id": "17382032",
   "metadata": {},
   "outputs": [],
   "source": [
    "print(type(soup.find_all('a')))\n",
    "soup.find_all('a')\n",
    "#soup.find_all([\"a\", \"b\"])"
   ]
  },
  {
   "cell_type": "code",
   "execution_count": null,
   "id": "754ded22",
   "metadata": {},
   "outputs": [],
   "source": [
    "all_tags = [tag.name for tag in soup.find_all(True)]\n",
    "print(type(all_tags))\n",
    "all_tags"
   ]
  },
  {
   "cell_type": "code",
   "execution_count": null,
   "id": "d6bf94d5",
   "metadata": {},
   "outputs": [],
   "source": [
    "some_tags = [tag.name for tag in soup.find_all(re.compile(\"^b\"))]\n",
    "some_tags"
   ]
  },
  {
   "cell_type": "code",
   "execution_count": null,
   "id": "7007c557",
   "metadata": {},
   "outputs": [],
   "source": [
    "# Using a function\n",
    "def has_class_but_no_id(tag):\n",
    "    return tag.has_attr('class') and not tag.has_attr('id')"
   ]
  },
  {
   "cell_type": "code",
   "execution_count": null,
   "id": "3ea6c68f",
   "metadata": {},
   "outputs": [],
   "source": [
    "soup.find_all(has_class_but_no_id)"
   ]
  },
  {
   "cell_type": "markdown",
   "id": "3ac6dbb1",
   "metadata": {},
   "source": [
    "---"
   ]
  },
  {
   "cell_type": "markdown",
   "id": "80ce0d8c",
   "metadata": {},
   "source": [
    "__Finally, let's make a stew...__"
   ]
  },
  {
   "cell_type": "code",
   "execution_count": null,
   "id": "ae75b394",
   "metadata": {},
   "outputs": [],
   "source": [
    "stew = soup.find_all(\"a\", {\"class\": \"sister\"})\n",
    "stew"
   ]
  },
  {
   "cell_type": "code",
   "execution_count": null,
   "id": "2fe28033",
   "metadata": {},
   "outputs": [],
   "source": [
    "all_strings = [tag.string for tag in stew]\n",
    "all_strings"
   ]
  },
  {
   "cell_type": "markdown",
   "id": "a433c275",
   "metadata": {},
   "source": [
    "---"
   ]
  },
  {
   "cell_type": "markdown",
   "id": "7e990515",
   "metadata": {},
   "source": [
    "__Back to the original HTML content...__"
   ]
  },
  {
   "cell_type": "code",
   "execution_count": null,
   "id": "7edc2255",
   "metadata": {},
   "outputs": [],
   "source": [
    "parsed_html = bs4.BeautifulSoup(html, \"html.parser\")\n",
    "parsed_tags = set([tag.name for tag in parsed_html.find_all(True)])\n",
    "parsed_tags"
   ]
  },
  {
   "cell_type": "code",
   "execution_count": null,
   "id": "93513017",
   "metadata": {},
   "outputs": [],
   "source": [
    "element = parsed_html.find_all(\"a\", {\"itemprop\": \"url\"})\n",
    "print(element[0])\n",
    "element[0]['title']\n",
    "links = [tag.attrs for tag in element]\n",
    "links"
   ]
  },
  {
   "cell_type": "code",
   "execution_count": null,
   "id": "241dcf40",
   "metadata": {},
   "outputs": [],
   "source": [
    "# Pandas!!!\n",
    "\n",
    "df = pd.DataFrame(links, columns=['title', 'href', 'itemprop', 'rel'])\n",
    "df"
   ]
  },
  {
   "cell_type": "markdown",
   "id": "3690c101",
   "metadata": {},
   "source": [
    "---"
   ]
  },
  {
   "cell_type": "markdown",
   "id": "a5c02de9",
   "metadata": {},
   "source": [
    "__More info:__\n",
    "\n",
    "- An example for creating a pipeline where the Acquisition part involves REST API and Web Scraping [link](https://towardsdatascience.com/data-engineering-create-your-own-dataset-9c4d267eb838)\n",
    "\n",
    "- If you have dynamic content, you should consider using [Selenium](https://selenium-python.readthedocs.io/)\n",
    "\n",
    "- [What would happen if you tried to scrape Idealista?](https://www.idealista.com/ayuda/articulos/legal-statement/?lang=en#:~:text=Specifically%2C%20it%20is,prior%20written%20permission.)"
   ]
  }
 ],
 "metadata": {
  "kernelspec": {
   "display_name": "Python [conda env:.conda-ironhack]",
   "language": "python",
   "name": "conda-env-.conda-ironhack-py"
  },
  "language_info": {
   "codemirror_mode": {
    "name": "ipython",
    "version": 3
   },
   "file_extension": ".py",
   "mimetype": "text/x-python",
   "name": "python",
   "nbconvert_exporter": "python",
   "pygments_lexer": "ipython3",
   "version": "3.7.11"
  }
 },
 "nbformat": 4,
 "nbformat_minor": 5
}
